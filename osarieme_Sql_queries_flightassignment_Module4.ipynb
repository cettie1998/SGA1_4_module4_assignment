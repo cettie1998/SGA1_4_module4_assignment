{
 "cells": [
  {
   "cell_type": "markdown",
   "metadata": {
    "id": "fWt3WbJQWkWi"
   },
   "source": [
    "\n",
    "\n",
    "## NAME :  OSARIEME EHIMWENMA\n",
    "\n"
   ]
  },
  {
   "cell_type": "code",
   "execution_count": 1,
   "metadata": {},
   "outputs": [
    {
     "name": "stdout",
     "output_type": "stream",
     "text": [
      "Requirement already satisfied: ipython-sql in c:\\users\\hp\\anaconda3\\anaconda\\lib\\site-packages (0.4.1)\n",
      "Requirement already satisfied: ipython>=1.0 in c:\\users\\hp\\anaconda3\\anaconda\\lib\\site-packages (from ipython-sql) (7.22.0)\n",
      "Requirement already satisfied: ipython-genutils>=0.1.0 in c:\\users\\hp\\anaconda3\\anaconda\\lib\\site-packages (from ipython-sql) (0.2.0)\n",
      "Requirement already satisfied: prettytable<1 in c:\\users\\hp\\anaconda3\\anaconda\\lib\\site-packages (from ipython-sql) (0.7.2)\n",
      "Requirement already satisfied: six in c:\\users\\hp\\anaconda3\\anaconda\\lib\\site-packages (from ipython-sql) (1.15.0)\n",
      "Requirement already satisfied: sqlalchemy>=0.6.7 in c:\\users\\hp\\anaconda3\\anaconda\\lib\\site-packages (from ipython-sql) (1.4.7)\n",
      "Requirement already satisfied: sqlparse in c:\\users\\hp\\anaconda3\\anaconda\\lib\\site-packages (from ipython-sql) (0.4.3)\n",
      "Requirement already satisfied: traitlets>=4.2 in c:\\users\\hp\\anaconda3\\anaconda\\lib\\site-packages (from ipython>=1.0->ipython-sql) (5.0.5)\n",
      "Requirement already satisfied: colorama in c:\\users\\hp\\anaconda3\\anaconda\\lib\\site-packages (from ipython>=1.0->ipython-sql) (0.4.4)\n",
      "Requirement already satisfied: jedi>=0.16 in c:\\users\\hp\\anaconda3\\anaconda\\lib\\site-packages (from ipython>=1.0->ipython-sql) (0.17.2)\n",
      "Requirement already satisfied: backcall in c:\\users\\hp\\anaconda3\\anaconda\\lib\\site-packages (from ipython>=1.0->ipython-sql) (0.2.0)\n",
      "Requirement already satisfied: pygments in c:\\users\\hp\\anaconda3\\anaconda\\lib\\site-packages (from ipython>=1.0->ipython-sql) (2.8.1)\n",
      "Requirement already satisfied: setuptools>=18.5 in c:\\users\\hp\\anaconda3\\anaconda\\lib\\site-packages (from ipython>=1.0->ipython-sql) (52.0.0.post20210125)\n",
      "Requirement already satisfied: pickleshare in c:\\users\\hp\\anaconda3\\anaconda\\lib\\site-packages (from ipython>=1.0->ipython-sql) (0.7.5)\n",
      "Requirement already satisfied: decorator in c:\\users\\hp\\anaconda3\\anaconda\\lib\\site-packages (from ipython>=1.0->ipython-sql) (5.0.6)\n",
      "Requirement already satisfied: prompt-toolkit!=3.0.0,!=3.0.1,<3.1.0,>=2.0.0 in c:\\users\\hp\\anaconda3\\anaconda\\lib\\site-packages (from ipython>=1.0->ipython-sql) (3.0.17)\n",
      "Requirement already satisfied: parso<0.8.0,>=0.7.0 in c:\\users\\hp\\anaconda3\\anaconda\\lib\\site-packages (from jedi>=0.16->ipython>=1.0->ipython-sql) (0.7.0)\n",
      "Requirement already satisfied: wcwidth in c:\\users\\hp\\anaconda3\\anaconda\\lib\\site-packages (from prompt-toolkit!=3.0.0,!=3.0.1,<3.1.0,>=2.0.0->ipython>=1.0->ipython-sql) (0.2.5)\n",
      "Requirement already satisfied: greenlet!=0.4.17 in c:\\users\\hp\\anaconda3\\anaconda\\lib\\site-packages (from sqlalchemy>=0.6.7->ipython-sql) (1.0.0)\n",
      "Note: you may need to restart the kernel to use updated packages.\n"
     ]
    }
   ],
   "source": [
    "pip install ipython-sql"
   ]
  },
  {
   "cell_type": "code",
   "execution_count": 2,
   "metadata": {},
   "outputs": [
    {
     "name": "stdout",
     "output_type": "stream",
     "text": [
      "Requirement already satisfied: SQLAlchemy in c:\\users\\hp\\anaconda3\\anaconda\\lib\\site-packages (1.4.7)\n",
      "Requirement already satisfied: greenlet!=0.4.17 in c:\\users\\hp\\anaconda3\\anaconda\\lib\\site-packages (from SQLAlchemy) (1.0.0)\n",
      "Note: you may need to restart the kernel to use updated packages.\n"
     ]
    }
   ],
   "source": [
    "pip install SQLAlchemy"
   ]
  },
  {
   "cell_type": "code",
   "execution_count": 3,
   "metadata": {
    "id": "G3P6kl84qORE"
   },
   "outputs": [],
   "source": [
    "%load_ext sql"
   ]
  },
  {
   "cell_type": "code",
   "execution_count": 4,
   "metadata": {
    "colab": {
     "background_save": true
    },
    "id": "RPb4uX3f5QpD"
   },
   "outputs": [],
   "source": [
    "%%sql \n",
    "\n",
    "sqlite:///flights.db"
   ]
  },
  {
   "cell_type": "markdown",
   "metadata": {
    "id": "DEfPERWi7BwE"
   },
   "source": [
    "#Exploring the database \n",
    "\n",
    "Before we begin this challenge we can go ahead and take a look at the composition of each table in the flights database"
   ]
  },
  {
   "cell_type": "code",
   "execution_count": 5,
   "metadata": {
    "colab": {
     "base_uri": "https://localhost:8080/",
     "height": 662
    },
    "id": "DogFYdP157J1",
    "outputId": "628f6e04-dcc2-4fdc-98c0-9d27004adb2a"
   },
   "outputs": [
    {
     "name": "stdout",
     "output_type": "stream",
     "text": [
      " * sqlite:///flights.db\n",
      "Done.\n"
     ]
    },
    {
     "data": {
      "text/html": [
       "<table>\n",
       "    <tr>\n",
       "        <th>cid</th>\n",
       "        <th>name</th>\n",
       "        <th>type</th>\n",
       "        <th>notnull</th>\n",
       "        <th>dflt_value</th>\n",
       "        <th>pk</th>\n",
       "    </tr>\n",
       "    <tr>\n",
       "        <td>0</td>\n",
       "        <td>index</td>\n",
       "        <td>integer</td>\n",
       "        <td>0</td>\n",
       "        <td>NULL</td>\n",
       "        <td>0</td>\n",
       "    </tr>\n",
       "    <tr>\n",
       "        <td>1</td>\n",
       "        <td>Date</td>\n",
       "        <td>longtext</td>\n",
       "        <td>0</td>\n",
       "        <td>None</td>\n",
       "        <td>0</td>\n",
       "    </tr>\n",
       "    <tr>\n",
       "        <td>2</td>\n",
       "        <td>DayOfWeek</td>\n",
       "        <td>integer</td>\n",
       "        <td>0</td>\n",
       "        <td>NULL</td>\n",
       "        <td>0</td>\n",
       "    </tr>\n",
       "    <tr>\n",
       "        <td>3</td>\n",
       "        <td>DepTime</td>\n",
       "        <td>double</td>\n",
       "        <td>0</td>\n",
       "        <td>NULL</td>\n",
       "        <td>0</td>\n",
       "    </tr>\n",
       "    <tr>\n",
       "        <td>4</td>\n",
       "        <td>CRSDepTime</td>\n",
       "        <td>longtext</td>\n",
       "        <td>0</td>\n",
       "        <td>None</td>\n",
       "        <td>0</td>\n",
       "    </tr>\n",
       "    <tr>\n",
       "        <td>5</td>\n",
       "        <td>ArrTime</td>\n",
       "        <td>double</td>\n",
       "        <td>0</td>\n",
       "        <td>NULL</td>\n",
       "        <td>0</td>\n",
       "    </tr>\n",
       "    <tr>\n",
       "        <td>6</td>\n",
       "        <td>CRSArrTime</td>\n",
       "        <td>longtext</td>\n",
       "        <td>0</td>\n",
       "        <td>None</td>\n",
       "        <td>0</td>\n",
       "    </tr>\n",
       "    <tr>\n",
       "        <td>7</td>\n",
       "        <td>UniqueCarrier</td>\n",
       "        <td>longtext</td>\n",
       "        <td>0</td>\n",
       "        <td>None</td>\n",
       "        <td>0</td>\n",
       "    </tr>\n",
       "    <tr>\n",
       "        <td>8</td>\n",
       "        <td>FlightNum</td>\n",
       "        <td>longtext</td>\n",
       "        <td>0</td>\n",
       "        <td>None</td>\n",
       "        <td>0</td>\n",
       "    </tr>\n",
       "    <tr>\n",
       "        <td>9</td>\n",
       "        <td>TailNum</td>\n",
       "        <td>longtext</td>\n",
       "        <td>0</td>\n",
       "        <td>None</td>\n",
       "        <td>0</td>\n",
       "    </tr>\n",
       "    <tr>\n",
       "        <td>10</td>\n",
       "        <td>ActualElapsedTime</td>\n",
       "        <td>double</td>\n",
       "        <td>0</td>\n",
       "        <td>NULL</td>\n",
       "        <td>0</td>\n",
       "    </tr>\n",
       "    <tr>\n",
       "        <td>11</td>\n",
       "        <td>CRSElapsedTime</td>\n",
       "        <td>longtext</td>\n",
       "        <td>0</td>\n",
       "        <td>None</td>\n",
       "        <td>0</td>\n",
       "    </tr>\n",
       "    <tr>\n",
       "        <td>12</td>\n",
       "        <td>AirTime</td>\n",
       "        <td>longtext</td>\n",
       "        <td>0</td>\n",
       "        <td>None</td>\n",
       "        <td>0</td>\n",
       "    </tr>\n",
       "    <tr>\n",
       "        <td>13</td>\n",
       "        <td>ArrDelay</td>\n",
       "        <td>double</td>\n",
       "        <td>0</td>\n",
       "        <td>NULL</td>\n",
       "        <td>0</td>\n",
       "    </tr>\n",
       "    <tr>\n",
       "        <td>14</td>\n",
       "        <td>DepDelay</td>\n",
       "        <td>double</td>\n",
       "        <td>0</td>\n",
       "        <td>NULL</td>\n",
       "        <td>0</td>\n",
       "    </tr>\n",
       "    <tr>\n",
       "        <td>15</td>\n",
       "        <td>Origin</td>\n",
       "        <td>longtext</td>\n",
       "        <td>0</td>\n",
       "        <td>None</td>\n",
       "        <td>0</td>\n",
       "    </tr>\n",
       "    <tr>\n",
       "        <td>16</td>\n",
       "        <td>Dest</td>\n",
       "        <td>longtext</td>\n",
       "        <td>0</td>\n",
       "        <td>None</td>\n",
       "        <td>0</td>\n",
       "    </tr>\n",
       "    <tr>\n",
       "        <td>17</td>\n",
       "        <td>Distance</td>\n",
       "        <td>integer</td>\n",
       "        <td>0</td>\n",
       "        <td>NULL</td>\n",
       "        <td>0</td>\n",
       "    </tr>\n",
       "    <tr>\n",
       "        <td>18</td>\n",
       "        <td>TaxiIn</td>\n",
       "        <td>longtext</td>\n",
       "        <td>0</td>\n",
       "        <td>None</td>\n",
       "        <td>0</td>\n",
       "    </tr>\n",
       "    <tr>\n",
       "        <td>19</td>\n",
       "        <td>TaxiOut</td>\n",
       "        <td>longtext</td>\n",
       "        <td>0</td>\n",
       "        <td>None</td>\n",
       "        <td>0</td>\n",
       "    </tr>\n",
       "    <tr>\n",
       "        <td>20</td>\n",
       "        <td>Cancelled</td>\n",
       "        <td>longtext</td>\n",
       "        <td>0</td>\n",
       "        <td>None</td>\n",
       "        <td>0</td>\n",
       "    </tr>\n",
       "    <tr>\n",
       "        <td>21</td>\n",
       "        <td>CancellationCode</td>\n",
       "        <td>longtext</td>\n",
       "        <td>0</td>\n",
       "        <td>None</td>\n",
       "        <td>0</td>\n",
       "    </tr>\n",
       "    <tr>\n",
       "        <td>22</td>\n",
       "        <td>Diverted</td>\n",
       "        <td>longtext</td>\n",
       "        <td>0</td>\n",
       "        <td>None</td>\n",
       "        <td>0</td>\n",
       "    </tr>\n",
       "    <tr>\n",
       "        <td>23</td>\n",
       "        <td>CarrierDelay</td>\n",
       "        <td>longtext</td>\n",
       "        <td>0</td>\n",
       "        <td>None</td>\n",
       "        <td>0</td>\n",
       "    </tr>\n",
       "    <tr>\n",
       "        <td>24</td>\n",
       "        <td>WeatherDelay</td>\n",
       "        <td>longtext</td>\n",
       "        <td>0</td>\n",
       "        <td>None</td>\n",
       "        <td>0</td>\n",
       "    </tr>\n",
       "    <tr>\n",
       "        <td>25</td>\n",
       "        <td>NASDelay</td>\n",
       "        <td>longtext</td>\n",
       "        <td>0</td>\n",
       "        <td>None</td>\n",
       "        <td>0</td>\n",
       "    </tr>\n",
       "    <tr>\n",
       "        <td>26</td>\n",
       "        <td>SecurityDelay</td>\n",
       "        <td>longtext</td>\n",
       "        <td>0</td>\n",
       "        <td>None</td>\n",
       "        <td>0</td>\n",
       "    </tr>\n",
       "    <tr>\n",
       "        <td>27</td>\n",
       "        <td>LateAircraftDelay</td>\n",
       "        <td>longtext</td>\n",
       "        <td>0</td>\n",
       "        <td>None</td>\n",
       "        <td>0</td>\n",
       "    </tr>\n",
       "</table>"
      ],
      "text/plain": [
       "[(0, 'index', 'integer', 0, 'NULL', 0),\n",
       " (1, 'Date', 'longtext', 0, None, 0),\n",
       " (2, 'DayOfWeek', 'integer', 0, 'NULL', 0),\n",
       " (3, 'DepTime', 'double', 0, 'NULL', 0),\n",
       " (4, 'CRSDepTime', 'longtext', 0, None, 0),\n",
       " (5, 'ArrTime', 'double', 0, 'NULL', 0),\n",
       " (6, 'CRSArrTime', 'longtext', 0, None, 0),\n",
       " (7, 'UniqueCarrier', 'longtext', 0, None, 0),\n",
       " (8, 'FlightNum', 'longtext', 0, None, 0),\n",
       " (9, 'TailNum', 'longtext', 0, None, 0),\n",
       " (10, 'ActualElapsedTime', 'double', 0, 'NULL', 0),\n",
       " (11, 'CRSElapsedTime', 'longtext', 0, None, 0),\n",
       " (12, 'AirTime', 'longtext', 0, None, 0),\n",
       " (13, 'ArrDelay', 'double', 0, 'NULL', 0),\n",
       " (14, 'DepDelay', 'double', 0, 'NULL', 0),\n",
       " (15, 'Origin', 'longtext', 0, None, 0),\n",
       " (16, 'Dest', 'longtext', 0, None, 0),\n",
       " (17, 'Distance', 'integer', 0, 'NULL', 0),\n",
       " (18, 'TaxiIn', 'longtext', 0, None, 0),\n",
       " (19, 'TaxiOut', 'longtext', 0, None, 0),\n",
       " (20, 'Cancelled', 'longtext', 0, None, 0),\n",
       " (21, 'CancellationCode', 'longtext', 0, None, 0),\n",
       " (22, 'Diverted', 'longtext', 0, None, 0),\n",
       " (23, 'CarrierDelay', 'longtext', 0, None, 0),\n",
       " (24, 'WeatherDelay', 'longtext', 0, None, 0),\n",
       " (25, 'NASDelay', 'longtext', 0, None, 0),\n",
       " (26, 'SecurityDelay', 'longtext', 0, None, 0),\n",
       " (27, 'LateAircraftDelay', 'longtext', 0, None, 0)]"
      ]
     },
     "execution_count": 5,
     "metadata": {},
     "output_type": "execute_result"
    }
   ],
   "source": [
    "%%sql \n",
    "\n",
    "PRAGMA table_info(flights);"
   ]
  },
  {
   "cell_type": "code",
   "execution_count": 6,
   "metadata": {},
   "outputs": [
    {
     "name": "stdout",
     "output_type": "stream",
     "text": [
      " * sqlite:///flights.db\n",
      "Done.\n"
     ]
    },
    {
     "data": {
      "text/html": [
       "<table>\n",
       "    <tr>\n",
       "        <th>index</th>\n",
       "        <th>Date</th>\n",
       "        <th>DayOfWeek</th>\n",
       "        <th>DepTime</th>\n",
       "        <th>CRSDepTime</th>\n",
       "        <th>ArrTime</th>\n",
       "        <th>CRSArrTime</th>\n",
       "        <th>UniqueCarrier</th>\n",
       "        <th>FlightNum</th>\n",
       "        <th>TailNum</th>\n",
       "        <th>ActualElapsedTime</th>\n",
       "        <th>CRSElapsedTime</th>\n",
       "        <th>AirTime</th>\n",
       "        <th>ArrDelay</th>\n",
       "        <th>DepDelay</th>\n",
       "        <th>Origin</th>\n",
       "        <th>Dest</th>\n",
       "        <th>Distance</th>\n",
       "        <th>TaxiIn</th>\n",
       "        <th>TaxiOut</th>\n",
       "        <th>Cancelled</th>\n",
       "        <th>CancellationCode</th>\n",
       "        <th>Diverted</th>\n",
       "        <th>CarrierDelay</th>\n",
       "        <th>WeatherDelay</th>\n",
       "        <th>NASDelay</th>\n",
       "        <th>SecurityDelay</th>\n",
       "        <th>LateAircraftDelay</th>\n",
       "    </tr>\n",
       "    <tr>\n",
       "        <td>0</td>\n",
       "        <td>2008/1/3</td>\n",
       "        <td>4</td>\n",
       "        <td>2003.0</td>\n",
       "        <td>1955</td>\n",
       "        <td>2211.0</td>\n",
       "        <td>2225</td>\n",
       "        <td>WN</td>\n",
       "        <td>335</td>\n",
       "        <td>N712SW</td>\n",
       "        <td>128.0</td>\n",
       "        <td>150</td>\n",
       "        <td>116.0</td>\n",
       "        <td>-14.0</td>\n",
       "        <td>8.0</td>\n",
       "        <td>IAD</td>\n",
       "        <td>TPA</td>\n",
       "        <td>810</td>\n",
       "        <td>4</td>\n",
       "        <td>8</td>\n",
       "        <td>0</td>\n",
       "        <td>None</td>\n",
       "        <td>0</td>\n",
       "        <td>None</td>\n",
       "        <td>None</td>\n",
       "        <td>None</td>\n",
       "        <td>None</td>\n",
       "        <td>None</td>\n",
       "    </tr>\n",
       "    <tr>\n",
       "        <td>1</td>\n",
       "        <td>2008/1/3</td>\n",
       "        <td>4</td>\n",
       "        <td>754.0</td>\n",
       "        <td>735</td>\n",
       "        <td>1002.0</td>\n",
       "        <td>1000</td>\n",
       "        <td>WN</td>\n",
       "        <td>3231</td>\n",
       "        <td>N772SW</td>\n",
       "        <td>128.0</td>\n",
       "        <td>145</td>\n",
       "        <td>113.0</td>\n",
       "        <td>2.0</td>\n",
       "        <td>19.0</td>\n",
       "        <td>IAD</td>\n",
       "        <td>TPA</td>\n",
       "        <td>810</td>\n",
       "        <td>5</td>\n",
       "        <td>10</td>\n",
       "        <td>0</td>\n",
       "        <td>None</td>\n",
       "        <td>0</td>\n",
       "        <td>None</td>\n",
       "        <td>None</td>\n",
       "        <td>None</td>\n",
       "        <td>None</td>\n",
       "        <td>None</td>\n",
       "    </tr>\n",
       "    <tr>\n",
       "        <td>2</td>\n",
       "        <td>2008/1/3</td>\n",
       "        <td>4</td>\n",
       "        <td>628.0</td>\n",
       "        <td>620</td>\n",
       "        <td>804.0</td>\n",
       "        <td>750</td>\n",
       "        <td>WN</td>\n",
       "        <td>448</td>\n",
       "        <td>N428WN</td>\n",
       "        <td>96.0</td>\n",
       "        <td>90</td>\n",
       "        <td>76.0</td>\n",
       "        <td>14.0</td>\n",
       "        <td>8.0</td>\n",
       "        <td>IND</td>\n",
       "        <td>BWI</td>\n",
       "        <td>515</td>\n",
       "        <td>3</td>\n",
       "        <td>17</td>\n",
       "        <td>0</td>\n",
       "        <td>None</td>\n",
       "        <td>0</td>\n",
       "        <td>None</td>\n",
       "        <td>None</td>\n",
       "        <td>None</td>\n",
       "        <td>None</td>\n",
       "        <td>None</td>\n",
       "    </tr>\n",
       "    <tr>\n",
       "        <td>3</td>\n",
       "        <td>2008/1/3</td>\n",
       "        <td>4</td>\n",
       "        <td>926.0</td>\n",
       "        <td>930</td>\n",
       "        <td>1054.0</td>\n",
       "        <td>1100</td>\n",
       "        <td>WN</td>\n",
       "        <td>1746</td>\n",
       "        <td>N612SW</td>\n",
       "        <td>88.0</td>\n",
       "        <td>90</td>\n",
       "        <td>78.0</td>\n",
       "        <td>-6.0</td>\n",
       "        <td>-4.0</td>\n",
       "        <td>IND</td>\n",
       "        <td>BWI</td>\n",
       "        <td>515</td>\n",
       "        <td>3</td>\n",
       "        <td>7</td>\n",
       "        <td>0</td>\n",
       "        <td>None</td>\n",
       "        <td>0</td>\n",
       "        <td>None</td>\n",
       "        <td>None</td>\n",
       "        <td>None</td>\n",
       "        <td>None</td>\n",
       "        <td>None</td>\n",
       "    </tr>\n",
       "    <tr>\n",
       "        <td>4</td>\n",
       "        <td>2008/1/3</td>\n",
       "        <td>4</td>\n",
       "        <td>1829.0</td>\n",
       "        <td>1755</td>\n",
       "        <td>1959.0</td>\n",
       "        <td>1925</td>\n",
       "        <td>WN</td>\n",
       "        <td>3920</td>\n",
       "        <td>N464WN</td>\n",
       "        <td>90.0</td>\n",
       "        <td>90</td>\n",
       "        <td>77.0</td>\n",
       "        <td>34.0</td>\n",
       "        <td>34.0</td>\n",
       "        <td>IND</td>\n",
       "        <td>BWI</td>\n",
       "        <td>515</td>\n",
       "        <td>3</td>\n",
       "        <td>10</td>\n",
       "        <td>0</td>\n",
       "        <td>None</td>\n",
       "        <td>0</td>\n",
       "        <td>2</td>\n",
       "        <td>0</td>\n",
       "        <td>0</td>\n",
       "        <td>0</td>\n",
       "        <td>32</td>\n",
       "    </tr>\n",
       "</table>"
      ],
      "text/plain": [
       "[(0, '2008/1/3', 4, 2003.0, '1955', 2211.0, '2225', 'WN', '335', 'N712SW', 128.0, '150', '116.0', -14.0, 8.0, 'IAD', 'TPA', 810, '4', '8', '0', None, '0', None, None, None, None, None),\n",
       " (1, '2008/1/3', 4, 754.0, '735', 1002.0, '1000', 'WN', '3231', 'N772SW', 128.0, '145', '113.0', 2.0, 19.0, 'IAD', 'TPA', 810, '5', '10', '0', None, '0', None, None, None, None, None),\n",
       " (2, '2008/1/3', 4, 628.0, '620', 804.0, '750', 'WN', '448', 'N428WN', 96.0, '90', '76.0', 14.0, 8.0, 'IND', 'BWI', 515, '3', '17', '0', None, '0', None, None, None, None, None),\n",
       " (3, '2008/1/3', 4, 926.0, '930', 1054.0, '1100', 'WN', '1746', 'N612SW', 88.0, '90', '78.0', -6.0, -4.0, 'IND', 'BWI', 515, '3', '7', '0', None, '0', None, None, None, None, None),\n",
       " (4, '2008/1/3', 4, 1829.0, '1755', 1959.0, '1925', 'WN', '3920', 'N464WN', 90.0, '90', '77.0', 34.0, 34.0, 'IND', 'BWI', 515, '3', '10', '0', None, '0', '2', '0', '0', '0', '32')]"
      ]
     },
     "execution_count": 6,
     "metadata": {},
     "output_type": "execute_result"
    }
   ],
   "source": [
    "%%sql\n",
    "\n",
    "SELECT *\n",
    "FROM flights\n",
    "LIMIT 5;"
   ]
  },
  {
   "cell_type": "code",
   "execution_count": 7,
   "metadata": {
    "colab": {
     "base_uri": "https://localhost:8080/",
     "height": 116
    },
    "id": "rFbza7pM6-_T",
    "outputId": "77f4d6dd-65f5-4a6f-dc95-d29af06a40fc"
   },
   "outputs": [
    {
     "name": "stdout",
     "output_type": "stream",
     "text": [
      " * sqlite:///flights.db\n",
      "Done.\n"
     ]
    },
    {
     "data": {
      "text/html": [
       "<table>\n",
       "    <tr>\n",
       "        <th>cid</th>\n",
       "        <th>name</th>\n",
       "        <th>type</th>\n",
       "        <th>notnull</th>\n",
       "        <th>dflt_value</th>\n",
       "        <th>pk</th>\n",
       "    </tr>\n",
       "    <tr>\n",
       "        <td>0</td>\n",
       "        <td>Code</td>\n",
       "        <td>varchar(10)</td>\n",
       "        <td>0</td>\n",
       "        <td>NULL</td>\n",
       "        <td>0</td>\n",
       "    </tr>\n",
       "    <tr>\n",
       "        <td>1</td>\n",
       "        <td>Description</td>\n",
       "        <td>varchar(100)</td>\n",
       "        <td>0</td>\n",
       "        <td>NULL</td>\n",
       "        <td>0</td>\n",
       "    </tr>\n",
       "</table>"
      ],
      "text/plain": [
       "[(0, 'Code', 'varchar(10)', 0, 'NULL', 0),\n",
       " (1, 'Description', 'varchar(100)', 0, 'NULL', 0)]"
      ]
     },
     "execution_count": 7,
     "metadata": {},
     "output_type": "execute_result"
    }
   ],
   "source": [
    "%%sql \n",
    "\n",
    "PRAGMA table_info(carriers);"
   ]
  },
  {
   "cell_type": "code",
   "execution_count": 8,
   "metadata": {},
   "outputs": [
    {
     "name": "stdout",
     "output_type": "stream",
     "text": [
      " * sqlite:///flights.db\n",
      "Done.\n"
     ]
    },
    {
     "data": {
      "text/html": [
       "<table>\n",
       "    <tr>\n",
       "        <th>Code</th>\n",
       "        <th>Description</th>\n",
       "    </tr>\n",
       "    <tr>\n",
       "        <td>02Q</td>\n",
       "        <td>Titan Airways\r",
       "</td>\n",
       "    </tr>\n",
       "    <tr>\n",
       "        <td>04Q</td>\n",
       "        <td>Tradewind Aviation\r",
       "</td>\n",
       "    </tr>\n",
       "    <tr>\n",
       "        <td>05Q</td>\n",
       "        <td>Comlux Aviation, AG\r",
       "</td>\n",
       "    </tr>\n",
       "    <tr>\n",
       "        <td>06Q</td>\n",
       "        <td>Master Top Linhas Aereas Ltd.\r",
       "</td>\n",
       "    </tr>\n",
       "    <tr>\n",
       "        <td>07Q</td>\n",
       "        <td>Flair Airlines Ltd.\r",
       "</td>\n",
       "    </tr>\n",
       "</table>"
      ],
      "text/plain": [
       "[('02Q', 'Titan Airways\\r'),\n",
       " ('04Q', 'Tradewind Aviation\\r'),\n",
       " ('05Q', 'Comlux Aviation, AG\\r'),\n",
       " ('06Q', 'Master Top Linhas Aereas Ltd.\\r'),\n",
       " ('07Q', 'Flair Airlines Ltd.\\r')]"
      ]
     },
     "execution_count": 8,
     "metadata": {},
     "output_type": "execute_result"
    }
   ],
   "source": [
    "%%sql\n",
    "\n",
    "SELECT *\n",
    "FROM carriers\n",
    "LIMIT 5;"
   ]
  },
  {
   "cell_type": "code",
   "execution_count": 9,
   "metadata": {
    "colab": {
     "base_uri": "https://localhost:8080/",
     "height": 221
    },
    "id": "5CR8DRoz7OUC",
    "outputId": "64056736-6388-4aff-da3a-81658f7c6ddc"
   },
   "outputs": [
    {
     "name": "stdout",
     "output_type": "stream",
     "text": [
      " * sqlite:///flights.db\n",
      "Done.\n"
     ]
    },
    {
     "data": {
      "text/html": [
       "<table>\n",
       "    <tr>\n",
       "        <th>cid</th>\n",
       "        <th>name</th>\n",
       "        <th>type</th>\n",
       "        <th>notnull</th>\n",
       "        <th>dflt_value</th>\n",
       "        <th>pk</th>\n",
       "    </tr>\n",
       "    <tr>\n",
       "        <td>0</td>\n",
       "        <td>iata</td>\n",
       "        <td>varchar(10)</td>\n",
       "        <td>0</td>\n",
       "        <td>NULL</td>\n",
       "        <td>0</td>\n",
       "    </tr>\n",
       "    <tr>\n",
       "        <td>1</td>\n",
       "        <td>airport</td>\n",
       "        <td>varchar(100)</td>\n",
       "        <td>0</td>\n",
       "        <td>NULL</td>\n",
       "        <td>0</td>\n",
       "    </tr>\n",
       "    <tr>\n",
       "        <td>2</td>\n",
       "        <td>city</td>\n",
       "        <td>varchar(100)</td>\n",
       "        <td>0</td>\n",
       "        <td>NULL</td>\n",
       "        <td>0</td>\n",
       "    </tr>\n",
       "    <tr>\n",
       "        <td>3</td>\n",
       "        <td>state</td>\n",
       "        <td>varchar(50)</td>\n",
       "        <td>0</td>\n",
       "        <td>NULL</td>\n",
       "        <td>0</td>\n",
       "    </tr>\n",
       "    <tr>\n",
       "        <td>4</td>\n",
       "        <td>country</td>\n",
       "        <td>varchar(50)</td>\n",
       "        <td>0</td>\n",
       "        <td>NULL</td>\n",
       "        <td>0</td>\n",
       "    </tr>\n",
       "    <tr>\n",
       "        <td>5</td>\n",
       "        <td>lat</td>\n",
       "        <td>float(24,0)</td>\n",
       "        <td>0</td>\n",
       "        <td>NULL</td>\n",
       "        <td>0</td>\n",
       "    </tr>\n",
       "    <tr>\n",
       "        <td>6</td>\n",
       "        <td>long</td>\n",
       "        <td>float(24,0)</td>\n",
       "        <td>0</td>\n",
       "        <td>NULL</td>\n",
       "        <td>0</td>\n",
       "    </tr>\n",
       "</table>"
      ],
      "text/plain": [
       "[(0, 'iata', 'varchar(10)', 0, 'NULL', 0),\n",
       " (1, 'airport', 'varchar(100)', 0, 'NULL', 0),\n",
       " (2, 'city', 'varchar(100)', 0, 'NULL', 0),\n",
       " (3, 'state', 'varchar(50)', 0, 'NULL', 0),\n",
       " (4, 'country', 'varchar(50)', 0, 'NULL', 0),\n",
       " (5, 'lat', 'float(24,0)', 0, 'NULL', 0),\n",
       " (6, 'long', 'float(24,0)', 0, 'NULL', 0)]"
      ]
     },
     "execution_count": 9,
     "metadata": {},
     "output_type": "execute_result"
    }
   ],
   "source": [
    "%%sql \n",
    "\n",
    "PRAGMA table_info(airports);"
   ]
  },
  {
   "cell_type": "code",
   "execution_count": 10,
   "metadata": {},
   "outputs": [
    {
     "name": "stdout",
     "output_type": "stream",
     "text": [
      " * sqlite:///flights.db\n",
      "Done.\n"
     ]
    },
    {
     "data": {
      "text/html": [
       "<table>\n",
       "    <tr>\n",
       "        <th>iata</th>\n",
       "        <th>airport</th>\n",
       "        <th>city</th>\n",
       "        <th>state</th>\n",
       "        <th>country</th>\n",
       "        <th>lat</th>\n",
       "        <th>long</th>\n",
       "    </tr>\n",
       "    <tr>\n",
       "        <td>00M</td>\n",
       "        <td>Thigpen </td>\n",
       "        <td>Bay Springs</td>\n",
       "        <td>MS</td>\n",
       "        <td>USA</td>\n",
       "        <td>32.0</td>\n",
       "        <td>-89.0</td>\n",
       "    </tr>\n",
       "    <tr>\n",
       "        <td>00R</td>\n",
       "        <td>Livingston Municipal</td>\n",
       "        <td>Livingston</td>\n",
       "        <td>TX</td>\n",
       "        <td>USA</td>\n",
       "        <td>31.0</td>\n",
       "        <td>-95.0</td>\n",
       "    </tr>\n",
       "    <tr>\n",
       "        <td>00V</td>\n",
       "        <td>Meadow Lake</td>\n",
       "        <td>Colorado Springs</td>\n",
       "        <td>CO</td>\n",
       "        <td>USA</td>\n",
       "        <td>39.0</td>\n",
       "        <td>-105.0</td>\n",
       "    </tr>\n",
       "    <tr>\n",
       "        <td>01G</td>\n",
       "        <td>Perry-Warsaw</td>\n",
       "        <td>Perry</td>\n",
       "        <td>NY</td>\n",
       "        <td>USA</td>\n",
       "        <td>43.0</td>\n",
       "        <td>-78.0</td>\n",
       "    </tr>\n",
       "    <tr>\n",
       "        <td>01J</td>\n",
       "        <td>Hilliard Airpark</td>\n",
       "        <td>Hilliard</td>\n",
       "        <td>FL</td>\n",
       "        <td>USA</td>\n",
       "        <td>31.0</td>\n",
       "        <td>-82.0</td>\n",
       "    </tr>\n",
       "</table>"
      ],
      "text/plain": [
       "[('00M', 'Thigpen ', 'Bay Springs', 'MS', 'USA', 32.0, -89.0),\n",
       " ('00R', 'Livingston Municipal', 'Livingston', 'TX', 'USA', 31.0, -95.0),\n",
       " ('00V', 'Meadow Lake', 'Colorado Springs', 'CO', 'USA', 39.0, -105.0),\n",
       " ('01G', 'Perry-Warsaw', 'Perry', 'NY', 'USA', 43.0, -78.0),\n",
       " ('01J', 'Hilliard Airpark', 'Hilliard', 'FL', 'USA', 31.0, -82.0)]"
      ]
     },
     "execution_count": 10,
     "metadata": {},
     "output_type": "execute_result"
    }
   ],
   "source": [
    "%%sql\n",
    "\n",
    "SELECT *\n",
    "FROM airports\n",
    "LIMIT 5;"
   ]
  },
  {
   "cell_type": "code",
   "execution_count": 11,
   "metadata": {
    "colab": {
     "base_uri": "https://localhost:8080/",
     "height": 263
    },
    "id": "Yv-F_ubg7SsX",
    "outputId": "55e06ae2-034f-472b-b980-99f9c641a9c5"
   },
   "outputs": [
    {
     "name": "stdout",
     "output_type": "stream",
     "text": [
      " * sqlite:///flights.db\n",
      "Done.\n"
     ]
    },
    {
     "data": {
      "text/html": [
       "<table>\n",
       "    <tr>\n",
       "        <th>cid</th>\n",
       "        <th>name</th>\n",
       "        <th>type</th>\n",
       "        <th>notnull</th>\n",
       "        <th>dflt_value</th>\n",
       "        <th>pk</th>\n",
       "    </tr>\n",
       "    <tr>\n",
       "        <td>0</td>\n",
       "        <td>tailnum</td>\n",
       "        <td>varchar(10)</td>\n",
       "        <td>0</td>\n",
       "        <td>NULL</td>\n",
       "        <td>0</td>\n",
       "    </tr>\n",
       "    <tr>\n",
       "        <td>1</td>\n",
       "        <td>type</td>\n",
       "        <td>varchar(100)</td>\n",
       "        <td>0</td>\n",
       "        <td>NULL</td>\n",
       "        <td>0</td>\n",
       "    </tr>\n",
       "    <tr>\n",
       "        <td>2</td>\n",
       "        <td>manufacturer</td>\n",
       "        <td>varchar(100)</td>\n",
       "        <td>0</td>\n",
       "        <td>NULL</td>\n",
       "        <td>0</td>\n",
       "    </tr>\n",
       "    <tr>\n",
       "        <td>3</td>\n",
       "        <td>issue_date</td>\n",
       "        <td>varchar(100)</td>\n",
       "        <td>0</td>\n",
       "        <td>NULL</td>\n",
       "        <td>0</td>\n",
       "    </tr>\n",
       "    <tr>\n",
       "        <td>4</td>\n",
       "        <td>model</td>\n",
       "        <td>varchar(50)</td>\n",
       "        <td>0</td>\n",
       "        <td>NULL</td>\n",
       "        <td>0</td>\n",
       "    </tr>\n",
       "    <tr>\n",
       "        <td>5</td>\n",
       "        <td>status</td>\n",
       "        <td>varchar(100)</td>\n",
       "        <td>0</td>\n",
       "        <td>NULL</td>\n",
       "        <td>0</td>\n",
       "    </tr>\n",
       "    <tr>\n",
       "        <td>6</td>\n",
       "        <td>aircraft_type</td>\n",
       "        <td>varchar(100)</td>\n",
       "        <td>0</td>\n",
       "        <td>NULL</td>\n",
       "        <td>0</td>\n",
       "    </tr>\n",
       "    <tr>\n",
       "        <td>7</td>\n",
       "        <td>engine_type</td>\n",
       "        <td>varchar(100)</td>\n",
       "        <td>0</td>\n",
       "        <td>NULL</td>\n",
       "        <td>0</td>\n",
       "    </tr>\n",
       "    <tr>\n",
       "        <td>8</td>\n",
       "        <td>year</td>\n",
       "        <td>longtext</td>\n",
       "        <td>0</td>\n",
       "        <td>None</td>\n",
       "        <td>0</td>\n",
       "    </tr>\n",
       "</table>"
      ],
      "text/plain": [
       "[(0, 'tailnum', 'varchar(10)', 0, 'NULL', 0),\n",
       " (1, 'type', 'varchar(100)', 0, 'NULL', 0),\n",
       " (2, 'manufacturer', 'varchar(100)', 0, 'NULL', 0),\n",
       " (3, 'issue_date', 'varchar(100)', 0, 'NULL', 0),\n",
       " (4, 'model', 'varchar(50)', 0, 'NULL', 0),\n",
       " (5, 'status', 'varchar(100)', 0, 'NULL', 0),\n",
       " (6, 'aircraft_type', 'varchar(100)', 0, 'NULL', 0),\n",
       " (7, 'engine_type', 'varchar(100)', 0, 'NULL', 0),\n",
       " (8, 'year', 'longtext', 0, None, 0)]"
      ]
     },
     "execution_count": 11,
     "metadata": {},
     "output_type": "execute_result"
    }
   ],
   "source": [
    "%%sql \n",
    "\n",
    "PRAGMA table_info(planes);"
   ]
  },
  {
   "cell_type": "code",
   "execution_count": 12,
   "metadata": {},
   "outputs": [
    {
     "name": "stdout",
     "output_type": "stream",
     "text": [
      " * sqlite:///flights.db\n",
      "Done.\n"
     ]
    },
    {
     "data": {
      "text/html": [
       "<table>\n",
       "    <tr>\n",
       "        <th>tailnum</th>\n",
       "        <th>type</th>\n",
       "        <th>manufacturer</th>\n",
       "        <th>issue_date</th>\n",
       "        <th>model</th>\n",
       "        <th>status</th>\n",
       "        <th>aircraft_type</th>\n",
       "        <th>engine_type</th>\n",
       "        <th>year</th>\n",
       "    </tr>\n",
       "    <tr>\n",
       "        <td>N050AA</td>\n",
       "        <td>None</td>\n",
       "        <td>None</td>\n",
       "        <td>None</td>\n",
       "        <td>None</td>\n",
       "        <td>None</td>\n",
       "        <td>None</td>\n",
       "        <td>None</td>\n",
       "        <td>None</td>\n",
       "    </tr>\n",
       "    <tr>\n",
       "        <td>N051AA</td>\n",
       "        <td>None</td>\n",
       "        <td>None</td>\n",
       "        <td>None</td>\n",
       "        <td>None</td>\n",
       "        <td>None</td>\n",
       "        <td>None</td>\n",
       "        <td>None</td>\n",
       "        <td>None</td>\n",
       "    </tr>\n",
       "    <tr>\n",
       "        <td>N052AA</td>\n",
       "        <td>None</td>\n",
       "        <td>None</td>\n",
       "        <td>None</td>\n",
       "        <td>None</td>\n",
       "        <td>None</td>\n",
       "        <td>None</td>\n",
       "        <td>None</td>\n",
       "        <td>None</td>\n",
       "    </tr>\n",
       "    <tr>\n",
       "        <td>N054AA</td>\n",
       "        <td>None</td>\n",
       "        <td>None</td>\n",
       "        <td>None</td>\n",
       "        <td>None</td>\n",
       "        <td>None</td>\n",
       "        <td>None</td>\n",
       "        <td>None</td>\n",
       "        <td>None</td>\n",
       "    </tr>\n",
       "    <tr>\n",
       "        <td>N055AA</td>\n",
       "        <td>None</td>\n",
       "        <td>None</td>\n",
       "        <td>None</td>\n",
       "        <td>None</td>\n",
       "        <td>None</td>\n",
       "        <td>None</td>\n",
       "        <td>None</td>\n",
       "        <td>None</td>\n",
       "    </tr>\n",
       "</table>"
      ],
      "text/plain": [
       "[('N050AA', None, None, None, None, None, None, None, None),\n",
       " ('N051AA', None, None, None, None, None, None, None, None),\n",
       " ('N052AA', None, None, None, None, None, None, None, None),\n",
       " ('N054AA', None, None, None, None, None, None, None, None),\n",
       " ('N055AA', None, None, None, None, None, None, None, None)]"
      ]
     },
     "execution_count": 12,
     "metadata": {},
     "output_type": "execute_result"
    }
   ],
   "source": [
    "%%sql\n",
    "\n",
    "SELECT *\n",
    "FROM planes\n",
    "LIMIT 5;"
   ]
  },
  {
   "cell_type": "markdown",
   "metadata": {
    "id": "rrx6v9y07x3Q"
   },
   "source": [
    "**Question 1**\n",
    "\n",
    "How many different carriers are there in total in the database?\n",
    "\n",
    "**Options:**\n",
    "- 1 252\n",
    "- 1491\n",
    "- 20\n",
    "- 37"
   ]
  },
  {
   "cell_type": "code",
   "execution_count": 39,
   "metadata": {
    "id": "yxBbvV6K7ZIt"
   },
   "outputs": [
    {
     "name": "stdout",
     "output_type": "stream",
     "text": [
      " * sqlite:///flights.db\n",
      "Done.\n"
     ]
    },
    {
     "data": {
      "text/html": [
       "<table>\n",
       "    <tr>\n",
       "        <th>COUNT(*)</th>\n",
       "    </tr>\n",
       "    <tr>\n",
       "        <td>1491</td>\n",
       "    </tr>\n",
       "</table>"
      ],
      "text/plain": [
       "[(1491,)]"
      ]
     },
     "execution_count": 39,
     "metadata": {},
     "output_type": "execute_result"
    }
   ],
   "source": [
    "%%sql\n",
    "\n",
    "SELECT COUNT(*) \n",
    "FROM carriers;\n"
   ]
  },
  {
   "cell_type": "markdown",
   "metadata": {
    "id": "jbQrUUTXtXkJ"
   },
   "source": [
    "# YOUR ANSWER HERE: 1491"
   ]
  },
  {
   "cell_type": "markdown",
   "metadata": {
    "id": "VTSePiaa7_Yu"
   },
   "source": [
    "**Question 2** \n",
    "\n",
    "How long was the longest delay before departure? \n",
    "\n",
    "**Options:**\n",
    "- 1355 min\n",
    "- 999 min\n",
    "- 1099 min\n",
    "- 588 min"
   ]
  },
  {
   "cell_type": "code",
   "execution_count": 38,
   "metadata": {
    "id": "QeJQFrCV8ECZ"
   },
   "outputs": [
    {
     "name": "stdout",
     "output_type": "stream",
     "text": [
      " * sqlite:///flights.db\n",
      "Done.\n"
     ]
    },
    {
     "data": {
      "text/html": [
       "<table>\n",
       "    <tr>\n",
       "        <th>longest delay</th>\n",
       "        <th>Dest</th>\n",
       "        <th>DepTime</th>\n",
       "    </tr>\n",
       "    <tr>\n",
       "        <td>1355.0</td>\n",
       "        <td>DFW</td>\n",
       "        <td>1805.0</td>\n",
       "    </tr>\n",
       "    <tr>\n",
       "        <td>1275.0</td>\n",
       "        <td>MIA</td>\n",
       "        <td>800.0</td>\n",
       "    </tr>\n",
       "    <tr>\n",
       "        <td>1172.0</td>\n",
       "        <td>ORD</td>\n",
       "        <td>1017.0</td>\n",
       "    </tr>\n",
       "    <tr>\n",
       "        <td>1154.0</td>\n",
       "        <td>DFW</td>\n",
       "        <td>729.0</td>\n",
       "    </tr>\n",
       "    <tr>\n",
       "        <td>1120.0</td>\n",
       "        <td>DTW</td>\n",
       "        <td>756.0</td>\n",
       "    </tr>\n",
       "</table>"
      ],
      "text/plain": [
       "[(1355.0, 'DFW', 1805.0),\n",
       " (1275.0, 'MIA', 800.0),\n",
       " (1172.0, 'ORD', 1017.0),\n",
       " (1154.0, 'DFW', 729.0),\n",
       " (1120.0, 'DTW', 756.0)]"
      ]
     },
     "execution_count": 38,
     "metadata": {},
     "output_type": "execute_result"
    }
   ],
   "source": [
    "%%sql\n",
    "SELECT depdelay as \"longest delay\", dest, deptime\n",
    "FROM flights\n",
    "ORDER BY depdelay DESC\n",
    "LIMIT 5;\n",
    " \n"
   ]
  },
  {
   "cell_type": "markdown",
   "metadata": {
    "id": "H5aCJAP4udiu"
   },
   "source": [
    "### YOUR ANSWER HERE:  1355 min"
   ]
  },
  {
   "cell_type": "markdown",
   "metadata": {
    "id": "q-xmbYTI8jcM"
   },
   "source": [
    "**Question 3** \n",
    "\n",
    "How many flights departed on the 28th of January 2008?\n",
    "\n",
    "**Options:**\n",
    "- 540 908\n",
    "- 20 149\n",
    "- 19 495\n",
    "- 18 056"
   ]
  },
  {
   "cell_type": "code",
   "execution_count": 36,
   "metadata": {
    "id": "Yh2gQ4Ir9Zex"
   },
   "outputs": [
    {
     "name": "stdout",
     "output_type": "stream",
     "text": [
      " * sqlite:///flights.db\n",
      "Done.\n"
     ]
    },
    {
     "data": {
      "text/html": [
       "<table>\n",
       "    <tr>\n",
       "        <th>flight departed</th>\n",
       "        <th>Date</th>\n",
       "    </tr>\n",
       "    <tr>\n",
       "        <td>20149</td>\n",
       "        <td>2008/1/28</td>\n",
       "    </tr>\n",
       "</table>"
      ],
      "text/plain": [
       "[(20149, '2008/1/28')]"
      ]
     },
     "execution_count": 36,
     "metadata": {},
     "output_type": "execute_result"
    }
   ],
   "source": [
    "%%sql\n",
    "\n",
    "SELECT COUNT(*) as \"flight departed\", date\n",
    "FROM flights\n",
    "WHERE date like'%2008/1/28%'\n",
    "GROUP BY date\n",
    "ORDER BY \"date\" DESC\n",
    "LIMIT 5;\n"
   ]
  },
  {
   "cell_type": "markdown",
   "metadata": {
    "id": "OXlOG7e-vYYL"
   },
   "source": [
    "### YOUR ANSWER HERE:  20 149"
   ]
  },
  {
   "cell_type": "markdown",
   "metadata": {
    "id": "L_a4l1Si_Ysw"
   },
   "source": [
    "**Question 4**\n",
    " \n",
    " What is the distance between Midway Airport (MDW) and Houston Airport (HOU)?\n",
    " \n",
    " **Options:**\n",
    " - 611 km\n",
    " - 972 km\n",
    " - 1 121 km\n",
    " - 937 km"
   ]
  },
  {
   "cell_type": "code",
   "execution_count": 35,
   "metadata": {
    "id": "DopkPHBSAtoa"
   },
   "outputs": [
    {
     "name": "stdout",
     "output_type": "stream",
     "text": [
      " * sqlite:///flights.db\n",
      "Done.\n"
     ]
    },
    {
     "data": {
      "text/html": [
       "<table>\n",
       "    <tr>\n",
       "        <th>Distance</th>\n",
       "        <th>Origin</th>\n",
       "        <th>Dest</th>\n",
       "    </tr>\n",
       "    <tr>\n",
       "        <td>937</td>\n",
       "        <td>MDW</td>\n",
       "        <td>HOU</td>\n",
       "    </tr>\n",
       "</table>"
      ],
      "text/plain": [
       "[(937, 'MDW', 'HOU')]"
      ]
     },
     "execution_count": 35,
     "metadata": {},
     "output_type": "execute_result"
    }
   ],
   "source": [
    "%%sql\n",
    "\n",
    "SELECT distance, origin, dest\n",
    "FROM flights\n",
    "WHERE origin like'%MDW%' and dest like'%HOU%'\n",
    "ORDER BY distance DESC\n",
    "LIMIT 1;"
   ]
  },
  {
   "cell_type": "markdown",
   "metadata": {
    "id": "_Wy_hxQDvwjI"
   },
   "source": [
    "### YOUR ANSWER HERE:  937 km"
   ]
  },
  {
   "cell_type": "markdown",
   "metadata": {
    "id": "7UhjfCajAw_m"
   },
   "source": [
    "**Question 5**\n",
    "\n",
    "Which day of the week had the highest number of cancelled flights?(Note 1 = cancelled , 0 = not cancelled;)\n",
    "\n",
    "\n",
    "**Options:**\n",
    "- Monday(1)\n",
    "- Wednesday(3) \n",
    "- Saturday(6) \n",
    "- Thursday (4) "
   ]
  },
  {
   "cell_type": "code",
   "execution_count": 30,
   "metadata": {
    "id": "t1dYjEY7A1us"
   },
   "outputs": [
    {
     "name": "stdout",
     "output_type": "stream",
     "text": [
      " * sqlite:///flights.db\n",
      "Done.\n"
     ]
    },
    {
     "data": {
      "text/html": [
       "<table>\n",
       "    <tr>\n",
       "        <th>Date</th>\n",
       "        <th>DayOfWeek</th>\n",
       "    </tr>\n",
       "    <tr>\n",
       "        <td>3093</td>\n",
       "        <td>4</td>\n",
       "    </tr>\n",
       "    <tr>\n",
       "        <td>2993</td>\n",
       "        <td>2</td>\n",
       "    </tr>\n",
       "    <tr>\n",
       "        <td>2645</td>\n",
       "        <td>3</td>\n",
       "    </tr>\n",
       "    <tr>\n",
       "        <td>2617</td>\n",
       "        <td>1</td>\n",
       "    </tr>\n",
       "    <tr>\n",
       "        <td>2049</td>\n",
       "        <td>5</td>\n",
       "    </tr>\n",
       "</table>"
      ],
      "text/plain": [
       "[(3093, 4), (2993, 2), (2645, 3), (2617, 1), (2049, 5)]"
      ]
     },
     "execution_count": 30,
     "metadata": {},
     "output_type": "execute_result"
    }
   ],
   "source": [
    "%%sql\n",
    "\n",
    "SELECT COUNT(Date) as Date, dayofweek\n",
    "FROM flights\n",
    "WHERE Cancelled = 1\n",
    "GROUP BY dayofweek\n",
    "ORDER BY COUNT(date) DESC\n",
    "LIMIT 5;"
   ]
  },
  {
   "cell_type": "markdown",
   "metadata": {
    "id": "oACxyy6_vy-g"
   },
   "source": [
    "### YOUR ANSWER HERE:  Thursday (4)"
   ]
  },
  {
   "cell_type": "markdown",
   "metadata": {
    "id": "96IF0qcZA4SI"
   },
   "source": [
    "**Question 6**\n",
    "\n",
    "How many airports have the word \"International\" in their name?\n",
    "\n",
    "**Options:**\n",
    "- 110\n",
    "- 124\n",
    "- 8\n",
    "- 2"
   ]
  },
  {
   "cell_type": "code",
   "execution_count": 18,
   "metadata": {
    "id": "h-lHG0C_DXfL"
   },
   "outputs": [
    {
     "name": "stdout",
     "output_type": "stream",
     "text": [
      " * sqlite:///flights.db\n",
      "Done.\n"
     ]
    },
    {
     "data": {
      "text/html": [
       "<table>\n",
       "    <tr>\n",
       "        <th>COUNT(*)</th>\n",
       "    </tr>\n",
       "    <tr>\n",
       "        <td>124</td>\n",
       "    </tr>\n",
       "</table>"
      ],
      "text/plain": [
       "[(124,)]"
      ]
     },
     "execution_count": 18,
     "metadata": {},
     "output_type": "execute_result"
    }
   ],
   "source": [
    "%%sql\n",
    "\n",
    "SELECT COUNT(*) \n",
    "FROM airports\n",
    "WHERE airport like '%international%';"
   ]
  },
  {
   "cell_type": "markdown",
   "metadata": {
    "id": "Hl7lHv_Iv1fA"
   },
   "source": [
    "### YOUR ANSWER HERE:  124"
   ]
  },
  {
   "cell_type": "markdown",
   "metadata": {
    "id": "Xabo9EvoDfYT"
   },
   "source": [
    "**Question 7**\n",
    "\n",
    "What is the most produced model for the manufacturer \"BOEING\"?\n",
    "\n",
    "**Options:**\n",
    "- 717-200\n",
    "- 737-7H4\n",
    "- 757-222\n",
    "- 737-3H4"
   ]
  },
  {
   "cell_type": "code",
   "execution_count": 31,
   "metadata": {},
   "outputs": [
    {
     "name": "stdout",
     "output_type": "stream",
     "text": [
      " * sqlite:///flights.db\n",
      "Done.\n"
     ]
    },
    {
     "data": {
      "text/html": [
       "<table>\n",
       "    <tr>\n",
       "        <th>most produced</th>\n",
       "        <th>model</th>\n",
       "    </tr>\n",
       "    <tr>\n",
       "        <td>308</td>\n",
       "        <td>737-7H4</td>\n",
       "    </tr>\n",
       "    <tr>\n",
       "        <td>147</td>\n",
       "        <td>737-3H4</td>\n",
       "    </tr>\n",
       "    <tr>\n",
       "        <td>112</td>\n",
       "        <td>757-232</td>\n",
       "    </tr>\n",
       "    <tr>\n",
       "        <td>100</td>\n",
       "        <td>737-824</td>\n",
       "    </tr>\n",
       "    <tr>\n",
       "        <td>98</td>\n",
       "        <td>717-200</td>\n",
       "    </tr>\n",
       "</table>"
      ],
      "text/plain": [
       "[(308, '737-7H4'),\n",
       " (147, '737-3H4'),\n",
       " (112, '757-232'),\n",
       " (100, '737-824'),\n",
       " (98, '717-200')]"
      ]
     },
     "execution_count": 31,
     "metadata": {},
     "output_type": "execute_result"
    }
   ],
   "source": [
    "%%sql\n",
    "\n",
    "SELECT COUNT(manufacturer) as \"most produced\", model\n",
    "FROM planes\n",
    "WHERE manufacturer like'%BOEING%'\n",
    "GROUP BY model\n",
    "ORDER BY COUNT(manufacturer) DESC\n",
    "LIMIT 5;"
   ]
  },
  {
   "cell_type": "markdown",
   "metadata": {
    "id": "iQv83kHVv3SC"
   },
   "source": [
    "### YOUR ANSWER HERE:   737-7H4"
   ]
  },
  {
   "cell_type": "markdown",
   "metadata": {
    "id": "NZheC-NnD2VO"
   },
   "source": [
    "**Question 8**\n",
    "\n",
    "How many planes landed at Los Angeles International Airport? \n",
    "\n",
    "**Options:**\n",
    "- 215 608\n",
    "- 18 964\n",
    "- 41 258\n",
    "- 39 422"
   ]
  },
  {
   "cell_type": "code",
   "execution_count": 37,
   "metadata": {},
   "outputs": [
    {
     "name": "stdout",
     "output_type": "stream",
     "text": [
      " * sqlite:///flights.db\n",
      "Done.\n"
     ]
    },
    {
     "data": {
      "text/html": [
       "<table>\n",
       "    <tr>\n",
       "        <th>planes landed</th>\n",
       "        <th>airport</th>\n",
       "    </tr>\n",
       "    <tr>\n",
       "        <td>18964</td>\n",
       "        <td>Los Angeles International</td>\n",
       "    </tr>\n",
       "</table>"
      ],
      "text/plain": [
       "[(18964, 'Los Angeles International')]"
      ]
     },
     "execution_count": 37,
     "metadata": {},
     "output_type": "execute_result"
    }
   ],
   "source": [
    "%%sql\n",
    "\n",
    "SELECT COUNT(airport) as \"planes landed\", airport\n",
    "FROM airports as A\n",
    "JOIN flights as F\n",
    "ON F.Dest = A.Iata\n",
    "WHERE A.airport LIKE'%Los Angeles International%';"
   ]
  },
  {
   "cell_type": "markdown",
   "metadata": {
    "id": "a_AnVjD2v5PQ"
   },
   "source": [
    "### YOUR ANSWER HERE:  18 964"
   ]
  },
  {
   "cell_type": "code",
   "execution_count": null,
   "metadata": {},
   "outputs": [],
   "source": []
  }
 ],
 "metadata": {
  "colab": {
   "collapsed_sections": [],
   "provenance": []
  },
  "kernelspec": {
   "display_name": "Python 3",
   "language": "python",
   "name": "python3"
  },
  "language_info": {
   "codemirror_mode": {
    "name": "ipython",
    "version": 3
   },
   "file_extension": ".py",
   "mimetype": "text/x-python",
   "name": "python",
   "nbconvert_exporter": "python",
   "pygments_lexer": "ipython3",
   "version": "3.8.8"
  }
 },
 "nbformat": 4,
 "nbformat_minor": 1
}
